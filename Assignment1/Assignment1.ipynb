{
 "cells": [
  {
   "cell_type": "markdown",
   "id": "parliamentary-trance",
   "metadata": {},
   "source": [
    "# Decision Trees"
   ]
  },
  {
   "cell_type": "markdown",
   "id": "quality-sending",
   "metadata": {},
   "source": [
    "## 1). Implement the decision tree learning algorithm"
   ]
  },
  {
   "cell_type": "markdown",
   "id": "settled-evidence",
   "metadata": {},
   "source": [
    "The decision tree's node is consistute by decision node, which is making branching choice by conditions, and leaf node, which is no child node but shows the final decison result.\n",
    "Classification and Regression Tree(CART) algorithm is not only using by classification but also regression. For classification, CART use target which is discrete type and select feature by Gini index which is different with ID3 information gain rule."
   ]
  },
  {
   "cell_type": "code",
   "execution_count": 16,
   "id": "third-finish",
   "metadata": {},
   "outputs": [],
   "source": [
    "import numpy as np\n",
    "# build a decision tree\n",
    "class DecisionTree():\n",
    "    def __init__(self, maxDepth, minSplits):\n",
    "        self.max_depth = maxDepth\n",
    "        self.min_splits = minSplits\n",
    "        \n",
    "    def fit(self, f, l):\n",
    "        self.feature = f\n",
    "        self.label = l\n",
    "        self.data = np.column_stack((self.feature, self.label)) # combine two matrix\n",
    "        self.buildTree()\n",
    "        #self.printTree(self.root)\n",
    "    \n",
    "    # calculate Gini index\n",
    "    def giniIndex(self, datas, labels):\n",
    "        num = sum([len(data) for data in datas]) # get the number of samples\n",
    "        gini = 0.0\n",
    "        \n",
    "        for data in datas:\n",
    "            size = float(len(data))\n",
    "            score = 0.0\n",
    "            if size == 0: # just in case divide by 0\n",
    "                continue\n",
    "            for label in labels:\n",
    "                pro = [i[-1] for i in data].count(label) / size\n",
    "                score += (pro ** 2)\n",
    "            # weight the score by relative size\n",
    "            gini += (1.0 - score) * (size / float(num))\n",
    "        return gini\n",
    "    \n",
    "    # to determine when we should stop: in the max depth or min node\n",
    "    def terminalNode(self, datas):\n",
    "        out = [data[-1] for data in datas]\n",
    "        return max(set(out), key=out.count)\n",
    "    \n",
    "    # split a dataset based on feature or feature label\n",
    "    def getSplit(self, index, val, datas):\n",
    "        left, right = list(), list()\n",
    "        for data in datas:\n",
    "            if data[index] <= val:\n",
    "                left.append(data)\n",
    "            else:\n",
    "                right.append(data)\n",
    "        return left, right\n",
    "    \n",
    "    # select the best split for dataset\n",
    "    def bestSplit(self, datas):\n",
    "        labels = list(set(data[-1] for data in datas))\n",
    "        best_index, best_value, best_score, best_datas = float('inf'), float('inf'), float('inf'), None\n",
    "        for i in range(len(datas[0])-1):\n",
    "            for data in datas:\n",
    "                values = self.getSplit(i, data[i], datas)\n",
    "                gini = self.giniIndex(values, labels)\n",
    "                if gini < best_score:\n",
    "                    best_index, best_value, best_score, best_datas = i, data[i], gini, values\n",
    "        return {'index': best_index, 'value': best_value, 'data': best_datas}\n",
    "    \n",
    "    # split node or make terminal\n",
    "    def splitBranch(self, node, depth):\n",
    "        left, right = node['data']\n",
    "        del(node['data'])\n",
    "        \n",
    "        # check in case no left or right, then no split\n",
    "        if not left or not right:\n",
    "            node['left'] = node['right'] = self.terminalNode(left + right)\n",
    "            return\n",
    "        # check max depth\n",
    "        if depth >= self.max_depth:\n",
    "            node['left'], node['right'] = self.terminalNode(left), self.terminalNode(right)\n",
    "            return\n",
    "        \n",
    "        # split left child\n",
    "        if len(left) <= self.min_splits:\n",
    "            node['left'] = self.terminalNode(left)\n",
    "        else:\n",
    "            node['left'] = self.bestSplit(left)\n",
    "            self.splitBranch(node['left'], depth+1)\n",
    "        \n",
    "        # split right child\n",
    "        if len(right) <= self.min_splits:\n",
    "            node['right'] = self.terminalNode(right)\n",
    "        else:\n",
    "            node['right'] = self.bestSplit(right)\n",
    "            self.splitBranch(node['right'], depth+1)\n",
    "    \n",
    "    # build a decision tree\n",
    "    def buildTree(self):\n",
    "        self.root = self.bestSplit(self.data)\n",
    "        self.splitBranch(self.root, 1)\n",
    "        return self.root\n",
    "    \n",
    "    # print a decision tree\n",
    "    def printTree(self, node, depth=0):\n",
    "        if isinstance(node, dict):\n",
    "            print('%s[X%d < %.2f]' %((depth*' ', (node['index']+1), node['value'])))\n",
    "            self.printTree(node['left'], depth+1)\n",
    "            self.printTree(node['right'], depth+1)\n",
    "        else:\n",
    "            print('%s[depth:%s]' %((depth*' ', depth+1)))\n",
    "    \n",
    "    # make a prediction\n",
    "    def predict_helper(self, node, data):\n",
    "        if data[node['index']] < node['value']:\n",
    "            if isinstance(node['left'], dict):\n",
    "                return self.predict_helper(node['left'], data)\n",
    "            else:\n",
    "                return node['left']\n",
    "        else:\n",
    "            if isinstance(node['right'], dict):\n",
    "                return self.predict_helper(node['right'], data)\n",
    "            else:\n",
    "                return node['right']\n",
    "    \n",
    "    # classification algorithm\n",
    "    def predict(self, testData):\n",
    "        self.pred_label = np.array([])\n",
    "        for data in testData:\n",
    "            self.pred_label = np.append(self.pred_label, self.predict_helper(self.root, data))\n",
    "        return self.pred_label\n",
    "\n",
    "\n",
    "#def accuracy(pred, actual):\n",
    "    #correct = 0\n",
    "    #num = len(pred)\n",
    "    \n",
    "    #for i in range(num):\n",
    "        #if int(pred[i] == actual[i]):\n",
    "            #correct += 1\n",
    "    #return correct / num"
   ]
  },
  {
   "cell_type": "markdown",
   "id": "preceding-accident",
   "metadata": {},
   "source": [
    "## 2). Run algorithm on the Iris flower data set"
   ]
  },
  {
   "cell_type": "code",
   "execution_count": 17,
   "id": "detailed-nepal",
   "metadata": {},
   "outputs": [],
   "source": [
    "# import the iris dataset\n",
    "from sklearn.datasets import load_iris\n",
    "# read the data\n",
    "iris = load_iris()\n",
    "# get the features and labels\n",
    "features, labels = iris.data, iris.target"
   ]
  },
  {
   "cell_type": "code",
   "execution_count": 18,
   "id": "artistic-sleep",
   "metadata": {},
   "outputs": [],
   "source": [
    "# split the data into training set and test set\n",
    "from sklearn.model_selection import train_test_split\n",
    "train_features, test_features, train_labels, test_labels = train_test_split(features, labels, test_size=0.2, random_state=1)"
   ]
  },
  {
   "cell_type": "code",
   "execution_count": 19,
   "id": "certain-baptist",
   "metadata": {},
   "outputs": [],
   "source": [
    "decision_tree_model = DecisionTree(maxDepth=5, minSplits=10)\n",
    "decision_tree_model.fit(train_features, train_labels)\n",
    "prediction = decision_tree_model.predict(test_features)"
   ]
  },
  {
   "cell_type": "code",
   "execution_count": 20,
   "id": "documented-performer",
   "metadata": {},
   "outputs": [
    {
     "name": "stdout",
     "output_type": "stream",
     "text": [
      "Model Accuracy: 0.90\n"
     ]
    }
   ],
   "source": [
    "from sklearn.metrics import accuracy_score\n",
    "#print('Model Accuracy: %.2f'% accuracy(prediction, y_test))\n",
    "print('Model Accuracy: %.2f'% accuracy_score(test_labels, prediction))"
   ]
  },
  {
   "cell_type": "markdown",
   "id": "numerous-banner",
   "metadata": {},
   "source": [
    "## 3). Run from scikit-learn"
   ]
  },
  {
   "cell_type": "code",
   "execution_count": 6,
   "id": "arctic-region",
   "metadata": {},
   "outputs": [],
   "source": [
    "# build CRAT decision tree\n",
    "from sklearn import tree\n",
    "from sklearn.tree import DecisionTreeClassifier\n",
    "clf = DecisionTreeClassifier(criterion='gini')\n",
    "# training\n",
    "clf = clf.fit(train_features, train_labels)\n",
    "#tree.plot_tree(clf)"
   ]
  },
  {
   "cell_type": "code",
   "execution_count": 7,
   "id": "exposed-football",
   "metadata": {},
   "outputs": [],
   "source": [
    "# predicting\n",
    "test_pred = clf.predict(test_features)"
   ]
  },
  {
   "cell_type": "code",
   "execution_count": 8,
   "id": "statewide-chart",
   "metadata": {},
   "outputs": [
    {
     "name": "stdout",
     "output_type": "stream",
     "text": [
      "CART accuracy: 0.97\n"
     ]
    }
   ],
   "source": [
    "# compare the predicted result with actual result\n",
    "score = accuracy_score(test_labels, test_pred)\n",
    "print(\"CART accuracy: %.2lf\" % score)"
   ]
  },
  {
   "cell_type": "markdown",
   "id": "assisted-newfoundland",
   "metadata": {},
   "source": [
    "# Entropy"
   ]
  },
  {
   "cell_type": "markdown",
   "id": "numeric-policy",
   "metadata": {},
   "source": [
    "## Consider training a binary decision tree using entropy splits. \n",
    "       \n",
    "1. Prove that the decrease in entropy by a split on a binary yes/no feature can never be greater than 1 bit. \n",
    "Answer: As we learned from lecture, the entrtopy formula is $H(S) = \\sum_{x\\in X} -p(x)\\log_2 p(x)$. We could find that the $p(x)$ would determines the value of $H(s)$, so it will make H(s) = 0 if all splited nodes value are same. If the node value is euqally splited, then the entropy will be 1. For other situation, the entropy should between 0 and 1. Therefore, it can never be greater than 1 bit.\n",
    " \n",
    "\n",
    "2. Generalize this result to the case of arbitrary multiway branching. \n",
    "Answer: The entropy formula remains the same and the result is still true. If all splited nodes value are same, the entropy will be 0. If the node value is euqally splited, then the entropy will be 1. For other situation, the entropy should between 0 and 1."
   ]
  },
  {
   "cell_type": "markdown",
   "id": "macro-express",
   "metadata": {},
   "source": [
    "# House Prices Prediction Using Regression Techniques"
   ]
  },
  {
   "cell_type": "markdown",
   "id": "destroyed-africa",
   "metadata": {},
   "source": [
    "## 1. Explore the data set and display summary statistics of the data. What can you learn from it on the data? "
   ]
  },
  {
   "cell_type": "code",
   "execution_count": 9,
   "id": "suburban-question",
   "metadata": {},
   "outputs": [
    {
     "name": "stdout",
     "output_type": "stream",
     "text": [
      "<class 'pandas.core.frame.DataFrame'>\n",
      "RangeIndex: 20640 entries, 0 to 20639\n",
      "Data columns (total 10 columns):\n",
      " #   Column              Non-Null Count  Dtype  \n",
      "---  ------              --------------  -----  \n",
      " 0   longitude           20640 non-null  float64\n",
      " 1   latitude            20640 non-null  float64\n",
      " 2   housing_median_age  20640 non-null  float64\n",
      " 3   total_rooms         20640 non-null  float64\n",
      " 4   total_bedrooms      20433 non-null  float64\n",
      " 5   population          20640 non-null  float64\n",
      " 6   households          20640 non-null  float64\n",
      " 7   median_income       20640 non-null  float64\n",
      " 8   median_house_value  20640 non-null  float64\n",
      " 9   ocean_proximity     20640 non-null  object \n",
      "dtypes: float64(9), object(1)\n",
      "memory usage: 1.6+ MB\n"
     ]
    }
   ],
   "source": [
    "import pandas as pd \n",
    "df = pd.read_csv('housing.csv')\n",
    "df.info()"
   ]
  },
  {
   "cell_type": "code",
   "execution_count": 10,
   "id": "likely-utility",
   "metadata": {},
   "outputs": [
    {
     "name": "stdout",
     "output_type": "stream",
     "text": [
      "<1H OCEAN     9136\n",
      "INLAND        6551\n",
      "NEAR OCEAN    2658\n",
      "NEAR BAY      2290\n",
      "ISLAND           5\n",
      "Name: ocean_proximity, dtype: int64\n"
     ]
    }
   ],
   "source": [
    "print(df[\"ocean_proximity\"].value_counts())"
   ]
  },
  {
   "cell_type": "code",
   "execution_count": 11,
   "id": "destroyed-slovakia",
   "metadata": {},
   "outputs": [
    {
     "name": "stdout",
     "output_type": "stream",
     "text": [
      "          longitude      latitude  housing_median_age   total_rooms  \\\n",
      "count  20640.000000  20640.000000        20640.000000  20640.000000   \n",
      "mean    -119.569704     35.631861           28.639486   2635.763081   \n",
      "std        2.003532      2.135952           12.585558   2181.615252   \n",
      "min     -124.350000     32.540000            1.000000      2.000000   \n",
      "25%     -121.800000     33.930000           18.000000   1447.750000   \n",
      "50%     -118.490000     34.260000           29.000000   2127.000000   \n",
      "75%     -118.010000     37.710000           37.000000   3148.000000   \n",
      "max     -114.310000     41.950000           52.000000  39320.000000   \n",
      "\n",
      "       total_bedrooms    population    households  median_income  \\\n",
      "count    20433.000000  20640.000000  20640.000000   20640.000000   \n",
      "mean       537.870553   1425.476744    499.539680       3.870671   \n",
      "std        421.385070   1132.462122    382.329753       1.899822   \n",
      "min          1.000000      3.000000      1.000000       0.499900   \n",
      "25%        296.000000    787.000000    280.000000       2.563400   \n",
      "50%        435.000000   1166.000000    409.000000       3.534800   \n",
      "75%        647.000000   1725.000000    605.000000       4.743250   \n",
      "max       6445.000000  35682.000000   6082.000000      15.000100   \n",
      "\n",
      "       median_house_value  \n",
      "count        20640.000000  \n",
      "mean        206855.816909  \n",
      "std         115395.615874  \n",
      "min          14999.000000  \n",
      "25%         119600.000000  \n",
      "50%         179700.000000  \n",
      "75%         264725.000000  \n",
      "max         500001.000000  \n"
     ]
    }
   ],
   "source": [
    "print(df.describe())"
   ]
  },
  {
   "cell_type": "markdown",
   "id": "fatal-virtue",
   "metadata": {},
   "source": [
    "First check if there are some missing value or other issues, we found that the data type of last feature \"ocean_proximity\" is not float. Print the description of float type features and usevalue_count to show \"ocean_proximity\" information. We could use the maximum and minimm values to determine whether the value of the variable exceeds a reasonable range in real world."
   ]
  },
  {
   "cell_type": "markdown",
   "id": "detected-compound",
   "metadata": {},
   "source": [
    "## 2. Compute the correlation between each feature and the target median_house_value. Which features have strong correlation with the target? "
   ]
  },
  {
   "cell_type": "code",
   "execution_count": 12,
   "id": "welcome-copper",
   "metadata": {},
   "outputs": [
    {
     "name": "stdout",
     "output_type": "stream",
     "text": [
      "median_house_value    1.000000\n",
      "median_income         0.688075\n",
      "total_rooms           0.134153\n",
      "housing_median_age    0.105623\n",
      "households            0.065843\n",
      "total_bedrooms        0.049686\n",
      "population           -0.024650\n",
      "longitude            -0.045967\n",
      "latitude             -0.144160\n",
      "Name: median_house_value, dtype: float64 \n",
      "\n"
     ]
    }
   ],
   "source": [
    "#The df.corr() method displays the correlation between the columns\n",
    "corr = df.corr()\n",
    "print(corr['median_house_value'].sort_values(ascending=False), '\\n')"
   ]
  },
  {
   "cell_type": "markdown",
   "id": "decimal-upset",
   "metadata": {},
   "source": [
    "According to the corralation number, we could find that the median_income have strong correlation with the median_house_value. Features total_rooms, housing_median_age, households, and total_bedrooms are positive correlation with median_house_value."
   ]
  },
  {
   "cell_type": "markdown",
   "id": "skilled-magnitude",
   "metadata": {},
   "source": [
    "## 3. Which actions do you need to take in order to prepare the data set for the learning algorithm? Identify at least four such actions. "
   ]
  },
  {
   "cell_type": "markdown",
   "id": "associate-sponsorship",
   "metadata": {},
   "source": [
    "1) Gathering the data: find several datasets which are public and free.\n",
    "\n",
    "2) Data cleaning: check if there are some data missing or other issues: including delete abnormal data and remove duplicate data.\n",
    "\n",
    "3) Feature extraction: make relations between features and extract the strong corrlation with the taget feature.\n",
    "\n",
    "4) Splitting the data into training and testing sets: split the data to 80-20 percent taning and testing sets."
   ]
  },
  {
   "cell_type": "markdown",
   "id": "revised-crazy",
   "metadata": {},
   "source": [
    "## 4. Clean the data set using the data preprocessing techniques such that dataset should be trainable. Show a sample of the data set before and after cleaning. "
   ]
  },
  {
   "cell_type": "code",
   "execution_count": 13,
   "id": "plastic-student",
   "metadata": {},
   "outputs": [
    {
     "data": {
      "text/plain": [
       "0        False\n",
       "1        False\n",
       "2        False\n",
       "3        False\n",
       "4        False\n",
       "         ...  \n",
       "20635    False\n",
       "20636    False\n",
       "20637    False\n",
       "20638    False\n",
       "20639    False\n",
       "Length: 20640, dtype: bool"
      ]
     },
     "execution_count": 13,
     "metadata": {},
     "output_type": "execute_result"
    }
   ],
   "source": [
    "# check if there has duplicate data\n",
    "df.duplicated()"
   ]
  },
  {
   "cell_type": "code",
   "execution_count": 14,
   "id": "affiliated-variety",
   "metadata": {},
   "outputs": [
    {
     "name": "stdout",
     "output_type": "stream",
     "text": [
      "longitude               0\n",
      "latitude                0\n",
      "housing_median_age      0\n",
      "total_rooms             0\n",
      "total_bedrooms        207\n",
      "population              0\n",
      "households              0\n",
      "median_income           0\n",
      "median_house_value      0\n",
      "ocean_proximity         0\n",
      "dtype: int64\n"
     ]
    }
   ],
   "source": [
    "# check if there has any Null value\n",
    "null_all = df.isnull().sum()\n",
    "print(null_all)"
   ]
  },
  {
   "cell_type": "code",
   "execution_count": 15,
   "id": "treated-cowboy",
   "metadata": {},
   "outputs": [
    {
     "name": "stdout",
     "output_type": "stream",
     "text": [
      "longitude             0\n",
      "latitude              0\n",
      "housing_median_age    0\n",
      "total_rooms           0\n",
      "total_bedrooms        0\n",
      "population            0\n",
      "households            0\n",
      "median_income         0\n",
      "median_house_value    0\n",
      "ocean_proximity       0\n",
      "dtype: int64\n"
     ]
    }
   ],
   "source": [
    "# use 0 to make up Null value\n",
    "fill_data = df.fillna(0)\n",
    "df = fill_data\n",
    "# check again\n",
    "null_all = df.isnull().sum()\n",
    "print(null_all)"
   ]
  },
  {
   "cell_type": "code",
   "execution_count": 16,
   "id": "southeast-moore",
   "metadata": {},
   "outputs": [
    {
     "name": "stdout",
     "output_type": "stream",
     "text": [
      "       longitude  latitude  housing_median_age  total_rooms  total_bedrooms  \\\n",
      "0        -122.23     37.88                41.0        880.0           129.0   \n",
      "1        -122.22     37.86                21.0       7099.0          1106.0   \n",
      "2        -122.24     37.85                52.0       1467.0           190.0   \n",
      "3        -122.25     37.85                52.0       1274.0           235.0   \n",
      "4        -122.25     37.85                52.0       1627.0           280.0   \n",
      "...          ...       ...                 ...          ...             ...   \n",
      "20635    -121.09     39.48                25.0       1665.0           374.0   \n",
      "20636    -121.21     39.49                18.0        697.0           150.0   \n",
      "20637    -121.22     39.43                17.0       2254.0           485.0   \n",
      "20638    -121.32     39.43                18.0       1860.0           409.0   \n",
      "20639    -121.24     39.37                16.0       2785.0           616.0   \n",
      "\n",
      "       population  households  median_income  \n",
      "0           322.0       126.0         8.3252  \n",
      "1          2401.0      1138.0         8.3014  \n",
      "2           496.0       177.0         7.2574  \n",
      "3           558.0       219.0         5.6431  \n",
      "4           565.0       259.0         3.8462  \n",
      "...           ...         ...            ...  \n",
      "20635       845.0       330.0         1.5603  \n",
      "20636       356.0       114.0         2.5568  \n",
      "20637      1007.0       433.0         1.7000  \n",
      "20638       741.0       349.0         1.8672  \n",
      "20639      1387.0       530.0         2.3886  \n",
      "\n",
      "[20640 rows x 8 columns]\n"
     ]
    }
   ],
   "source": [
    "# since there is no duplicate, we don't need to drop any data\n",
    "# extract all rows and columns except target feature.\n",
    "#X = df[['longitude','latitude','housing_median_age','total_rooms','total_bedrooms','population','households','median_income']]\n",
    "x = df.drop(['median_house_value', 'ocean_proximity'], axis=1)\n",
    "print(x)"
   ]
  },
  {
   "cell_type": "code",
   "execution_count": 17,
   "id": "ruled-hurricane",
   "metadata": {},
   "outputs": [
    {
     "name": "stdout",
     "output_type": "stream",
     "text": [
      "       median_house_value\n",
      "0                452600.0\n",
      "1                358500.0\n",
      "2                352100.0\n",
      "3                341300.0\n",
      "4                342200.0\n",
      "...                   ...\n",
      "20635             78100.0\n",
      "20636             77100.0\n",
      "20637             92300.0\n",
      "20638             84700.0\n",
      "20639             89400.0\n",
      "\n",
      "[20640 rows x 1 columns]\n"
     ]
    }
   ],
   "source": [
    "# extract the target feature \n",
    "y = df[['median_house_value']]\n",
    "print(y)"
   ]
  },
  {
   "cell_type": "markdown",
   "id": "absolute-michael",
   "metadata": {},
   "source": [
    "## 5. Extract at least two new features from the data set that have strong correlation with the target feature. "
   ]
  },
  {
   "cell_type": "code",
   "execution_count": 18,
   "id": "sweet-paintball",
   "metadata": {},
   "outputs": [
    {
     "name": "stdout",
     "output_type": "stream",
     "text": [
      "median_house_value    1.000000\n",
      "median_income         0.688075\n",
      "total_rooms           0.134153\n",
      "housing_median_age    0.105623\n",
      "Name: median_house_value, dtype: float64 \n",
      "\n"
     ]
    }
   ],
   "source": [
    "# display first three features are the most positively correlated with median_house_value\n",
    "print(corr['median_house_value'].sort_values(ascending=False)[:4], '\\n')"
   ]
  },
  {
   "cell_type": "code",
   "execution_count": 19,
   "id": "diagnostic-community",
   "metadata": {},
   "outputs": [
    {
     "name": "stdout",
     "output_type": "stream",
     "text": [
      "       housing_median_age  total_rooms  median_income\n",
      "0                    41.0        880.0         8.3252\n",
      "1                    21.0       7099.0         8.3014\n",
      "2                    52.0       1467.0         7.2574\n",
      "3                    52.0       1274.0         5.6431\n",
      "4                    52.0       1627.0         3.8462\n",
      "...                   ...          ...            ...\n",
      "20635                25.0       1665.0         1.5603\n",
      "20636                18.0        697.0         2.5568\n",
      "20637                17.0       2254.0         1.7000\n",
      "20638                18.0       1860.0         1.8672\n",
      "20639                16.0       2785.0         2.3886\n",
      "\n",
      "[20640 rows x 3 columns]\n"
     ]
    }
   ],
   "source": [
    "dataset = x.drop(['households','total_bedrooms','population','longitude','latitude'], 1)\n",
    "print(dataset)"
   ]
  },
  {
   "cell_type": "markdown",
   "id": "broken-interpretation",
   "metadata": {},
   "source": [
    "## 6. Run linear regression on the transformed data set. Use 80% of the data set as your training set and 20% as your test set. Compute RMSE and R-Square score both on the training and the test tests. "
   ]
  },
  {
   "cell_type": "code",
   "execution_count": 20,
   "id": "controlled-suspect",
   "metadata": {},
   "outputs": [],
   "source": [
    "# standardizes the data\n",
    "from sklearn.preprocessing import StandardScaler\n",
    "scaler = StandardScaler()\n",
    "X = scaler.fit_transform(x)\n",
    "#data_x = pd.DataFrame(X, columns=x.columns)"
   ]
  },
  {
   "cell_type": "code",
   "execution_count": 21,
   "id": "moving-guidance",
   "metadata": {},
   "outputs": [],
   "source": [
    "# split the data to 80% traning and 20% testing\n",
    "from sklearn.model_selection import train_test_split\n",
    "X_train, X_test, y_train, y_test = train_test_split(X, y, test_size=0.2)"
   ]
  },
  {
   "cell_type": "code",
   "execution_count": 22,
   "id": "disturbed-cheese",
   "metadata": {},
   "outputs": [
    {
     "data": {
      "text/plain": [
       "LinearRegression()"
      ]
     },
     "execution_count": 22,
     "metadata": {},
     "output_type": "execute_result"
    }
   ],
   "source": [
    "# Creating and Training the Model\n",
    "from sklearn.linear_model import LinearRegression\n",
    "model = LinearRegression()\n",
    "model.fit(X_train, y_train)"
   ]
  },
  {
   "cell_type": "code",
   "execution_count": 23,
   "id": "sporting-seeking",
   "metadata": {},
   "outputs": [],
   "source": [
    "predictions = model.predict(X_test)"
   ]
  },
  {
   "cell_type": "code",
   "execution_count": 24,
   "id": "handled-gothic",
   "metadata": {},
   "outputs": [
    {
     "data": {
      "text/plain": [
       "<matplotlib.collections.PathCollection at 0x217b98459c8>"
      ]
     },
     "execution_count": 24,
     "metadata": {},
     "output_type": "execute_result"
    },
    {
     "data": {
      "image/png": "[encoded data removed]",
      "text/plain": [
       "<Figure size 432x288 with 1 Axes>"
      ]
     },
     "metadata": {
      "needs_background": "light"
     },
     "output_type": "display_data"
    }
   ],
   "source": [
    "import matplotlib.pyplot as plt\n",
    "#test predictions by comparing with actual value (y_test)\n",
    "plt.scatter(y_test,predictions, c='r')"
   ]
  },
  {
   "cell_type": "code",
   "execution_count": 25,
   "id": "liberal-traffic",
   "metadata": {},
   "outputs": [
    {
     "name": "stdout",
     "output_type": "stream",
     "text": [
      "RMSE: 68946.37763629333\n",
      "R-squared: 0.6382564434514031\n"
     ]
    }
   ],
   "source": [
    "from sklearn import metrics\n",
    "from sklearn.metrics import r2_score\n",
    "import numpy as np\n",
    "# print RMSE and R-squared for testing set\n",
    "print('RMSE:', np.sqrt(metrics.mean_squared_error(y_test, predictions)))\n",
    "print('R-squared:', r2_score(y_test, predictions))"
   ]
  },
  {
   "cell_type": "code",
   "execution_count": 26,
   "id": "supreme-foster",
   "metadata": {},
   "outputs": [
    {
     "name": "stdout",
     "output_type": "stream",
     "text": [
      "RMSE: 69964.06611674232\n",
      "R-squared: 0.6335617026942261\n"
     ]
    }
   ],
   "source": [
    "# print RMSE and R-squared for training set\n",
    "print('RMSE:', np.sqrt(metrics.mean_squared_error(y_train, model.predict(X_train))))\n",
    "print('R-squared:', r2_score(y_train, model.predict(X_train)))"
   ]
  },
  {
   "cell_type": "markdown",
   "id": "eastern-prague",
   "metadata": {},
   "source": [
    "## 7. Does adding regularization improve the results (ridge regression in this case)? If yes, which value of lambda provides the best RMSE on the test set? If no, what is the reason for it? "
   ]
  },
  {
   "cell_type": "code",
   "execution_count": 27,
   "id": "familiar-mounting",
   "metadata": {},
   "outputs": [
    {
     "data": {
      "text/plain": [
       "GridSearchCV(estimator=Ridge(), param_grid={'alpha': [0.01, 0.1, 1, 10, 100]})"
      ]
     },
     "execution_count": 27,
     "metadata": {},
     "output_type": "execute_result"
    }
   ],
   "source": [
    "# use GridSearchCV to check the best value of lambda\n",
    "from sklearn.model_selection import GridSearchCV\n",
    "from sklearn.linear_model import Ridge\n",
    "ridge_regression = Ridge()\n",
    "param_ridge = {'alpha': list(10**i for i in range(-2,3))}\n",
    "r_gs = GridSearchCV(ridge_regression, param_grid=param_ridge)\n",
    "r_gs.fit(X_train, y_train)"
   ]
  },
  {
   "cell_type": "code",
   "execution_count": 28,
   "id": "handled-adelaide",
   "metadata": {},
   "outputs": [
    {
     "data": {
      "text/plain": [
       "{'alpha': 10}"
      ]
     },
     "execution_count": 28,
     "metadata": {},
     "output_type": "execute_result"
    }
   ],
   "source": [
    "# check the best lambda\n",
    "r_gs.best_params_"
   ]
  },
  {
   "cell_type": "code",
   "execution_count": 37,
   "id": "educated-prophet",
   "metadata": {},
   "outputs": [
    {
     "data": {
      "text/plain": [
       "Ridge(alpha=10)"
      ]
     },
     "execution_count": 37,
     "metadata": {},
     "output_type": "execute_result"
    }
   ],
   "source": [
    "# use the best param to train the model\n",
    "ridge_model = Ridge(alpha=10)\n",
    "ridge_model.fit(X_train, y_train)"
   ]
  },
  {
   "cell_type": "code",
   "execution_count": 38,
   "id": "unnecessary-guess",
   "metadata": {},
   "outputs": [],
   "source": [
    "pred = ridge_model.predict(X_test)"
   ]
  },
  {
   "cell_type": "code",
   "execution_count": 39,
   "id": "still-drilling",
   "metadata": {},
   "outputs": [
    {
     "name": "stdout",
     "output_type": "stream",
     "text": [
      "RMSE: 68955.34975346006\n",
      "R-squared: 0.6381622886353501\n"
     ]
    }
   ],
   "source": [
    "# print RMSE and R-squared for testing set\n",
    "print('RMSE:', np.sqrt(metrics.mean_squared_error(y_test, pred)))\n",
    "print('R-squared:', r2_score(y_test, pred))"
   ]
  },
  {
   "cell_type": "code",
   "execution_count": 40,
   "id": "bulgarian-symbol",
   "metadata": {},
   "outputs": [
    {
     "name": "stdout",
     "output_type": "stream",
     "text": [
      "RMSE: 69964.7068708835\n",
      "R-squared: 0.6335549907363685\n"
     ]
    }
   ],
   "source": [
    "# print RMSE and R-squared for training set\n",
    "print('RMSE:', np.sqrt(metrics.mean_squared_error(y_train, ridge_model.predict(X_train))))\n",
    "print('R-squared:', r2_score(y_train, ridge_model.predict(X_train)))"
   ]
  },
  {
   "cell_type": "markdown",
   "id": "concerned-reviewer",
   "metadata": {},
   "source": [
    "According to the data displayed, we could see the ridge regression in this case did not improve too much the results.The goal of the regularization (ridge regression in this case) is to avoid overfitting and thus better prediction on the independent. Since ridge regression didn;t improve model too much, I guess overfitting is not problem in here but is underfitting since we have much more samples than features and there features cannot predict very well, more complex model might predict better."
   ]
  },
  {
   "cell_type": "markdown",
   "id": "embedded-developer",
   "metadata": {},
   "source": [
    "## 8. Now replace linear regression with DecisionTreeRegressor (in sklearn. tree). What is the RMSE on the training and test this time? Which phenomenon is observed here? "
   ]
  },
  {
   "cell_type": "code",
   "execution_count": 41,
   "id": "first-comment",
   "metadata": {},
   "outputs": [
    {
     "data": {
      "text/plain": [
       "DecisionTreeRegressor()"
      ]
     },
     "execution_count": 41,
     "metadata": {},
     "output_type": "execute_result"
    }
   ],
   "source": [
    "from sklearn.tree import DecisionTreeRegressor\n",
    "dtr = DecisionTreeRegressor()\n",
    "dtr.fit(X_train, y_train)"
   ]
  },
  {
   "cell_type": "code",
   "execution_count": 42,
   "id": "technological-norfolk",
   "metadata": {},
   "outputs": [],
   "source": [
    "dtr_pred = dtr.predict(X_test)"
   ]
  },
  {
   "cell_type": "code",
   "execution_count": 43,
   "id": "sublime-glenn",
   "metadata": {},
   "outputs": [
    {
     "name": "stdout",
     "output_type": "stream",
     "text": [
      "RMSE: 65945.98275235524\n",
      "R-squared: 0.669055943506331\n"
     ]
    }
   ],
   "source": [
    "# print RMSE and R-squared for testing set\n",
    "print('RMSE:', np.sqrt(metrics.mean_squared_error(y_test, dtr_pred)))\n",
    "print('R-squared:', r2_score(y_test, dtr_pred))"
   ]
  },
  {
   "cell_type": "code",
   "execution_count": 44,
   "id": "speaking-demographic",
   "metadata": {},
   "outputs": [
    {
     "name": "stdout",
     "output_type": "stream",
     "text": [
      "RMSE: 0.0\n",
      "R-squared: 1.0\n"
     ]
    }
   ],
   "source": [
    "# print RMSE and R-squared for training set\n",
    "print('RMSE:', np.sqrt(metrics.mean_squared_error(y_train, dtr.predict(X_train))))\n",
    "print('R-squared:', r2_score(y_train, dtr.predict(X_train)))"
   ]
  },
  {
   "cell_type": "markdown",
   "id": "dental-spelling",
   "metadata": {},
   "source": [
    "The DecisionTreeRegressor did improve our results a little but the model is still underfitting. Next step we might try to combine some features or try more complex model."
   ]
  }
 ],
 "metadata": {
  "kernelspec": {
   "display_name": "Python 3",
   "language": "python",
   "name": "python3"
  },
  "language_info": {
   "codemirror_mode": {
    "name": "ipython",
    "version": 3
   },
   "file_extension": ".py",
   "mimetype": "text/x-python",
   "name": "python",
   "nbconvert_exporter": "python",
   "pygments_lexer": "ipython3",
   "version": "3.7.10"
  }
 },
 "nbformat": 4,
 "nbformat_minor": 5
}
